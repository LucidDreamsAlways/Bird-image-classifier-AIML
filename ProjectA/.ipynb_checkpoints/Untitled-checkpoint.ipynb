{
 "cells": [
  {
   "cell_type": "code",
   "execution_count": 1,
   "id": "2658be1e-7782-4976-bf47-70acb09357b4",
   "metadata": {},
   "outputs": [
    {
     "name": "stdout",
     "output_type": "stream",
     "text": [
      "Mean squared error: 31894483.35\n",
      "R^2 score: 0.80\n"
     ]
    }
   ],
   "source": [
    "import numpy as np\n",
    "import pandas as pd\n",
    "from numpy import math\n",
    "\n",
    "from sklearn.preprocessing import MinMaxScaler\n",
    "from sklearn.model_selection import train_test_split\n",
    "from sklearn.linear_model import Ridge\n",
    "from sklearn.metrics import mean_squared_error\n",
    "from sklearn.metrics import r2_score\n",
    "\n",
    "import matplotlib.pyplot as plt\n",
    "\n",
    "#importing the dataset\n",
    "dataset = pd.read_csv('./dataset/insurance.csv', skipinitialspace=True)\n",
    "\n",
    "# Create Dummy variables for the categorical variables region\n",
    "dataset = pd.get_dummies(dataset, columns=['region'])\n",
    "\n",
    "# Create Dummy variables for the categorical variables smoker\n",
    "dataset = pd.get_dummies(dataset, columns=['smoker'])\n",
    "\n",
    "# Create Dummy variables for the categorical variables sex\n",
    "dataset = pd.get_dummies(dataset, columns=['sex'])\n",
    "\n",
    "dependent_variable = 'charges'\n",
    "\n",
    "#create a list of independent variables\n",
    "independent_variables = dataset.columns.tolist()\n",
    "\n",
    "independent_variables.remove(dependent_variable)\n",
    "\n",
    "#create the data of independent variables\n",
    "X = dataset[independent_variables].values\n",
    "\n",
    "#create the data of dependent variable\n",
    "y = dataset[dependent_variable].values\n",
    "\n",
    "#splitting the dataset into the Training set and Test set\n",
    "X_train, X_test, y_train, y_test = train_test_split(X, y, test_size = 0.2, random_state = 0)\n",
    "\n",
    "#Transforming the data\n",
    "scaler = MinMaxScaler()\n",
    "X_train = scaler.fit_transform(X_train)\n",
    "X_test = scaler.transform(X_test)\n",
    "\n",
    "# Fitting Ridge Regression to the Training set\n",
    "regressor = Ridge()\n",
    "regressor.fit(X_train, y_train)\n",
    "\n",
    "# Predicting the Test set results\n",
    "y_pred = regressor.predict(X_test)\n",
    "\n",
    "# Evaluating the model\n",
    "mse = mean_squared_error(y_test, y_pred)\n",
    "r2 = r2_score(y_test, y_pred)\n",
    "\n",
    "print(f\"Mean squared error: {mse:.2f}\")\n",
    "print(f\"R^2 score: {r2:.2f}\")\n"
   ]
  }
 ],
 "metadata": {
  "kernelspec": {
   "display_name": "Python 3.9 (tensorflow)",
   "language": "python",
   "name": "tensorflow"
  },
  "language_info": {
   "codemirror_mode": {
    "name": "ipython",
    "version": 3
   },
   "file_extension": ".py",
   "mimetype": "text/x-python",
   "name": "python",
   "nbconvert_exporter": "python",
   "pygments_lexer": "ipython3",
   "version": "3.9.13"
  }
 },
 "nbformat": 4,
 "nbformat_minor": 5
}
