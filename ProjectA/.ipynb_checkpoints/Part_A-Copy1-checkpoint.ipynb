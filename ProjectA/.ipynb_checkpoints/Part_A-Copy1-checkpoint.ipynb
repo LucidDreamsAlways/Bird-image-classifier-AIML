{
 "cells": [
  {
   "cell_type": "code",
   "execution_count": 20,
   "id": "ed4e7e70-e77a-47f1-8b74-119722afce84",
   "metadata": {},
   "outputs": [],
   "source": [
    "import numpy as np\n",
    "import pandas as pd\n",
    "import matplotlib.pyplot as plt\n",
    "\n",
    "from sklearn.preprocessing import LabelEncoder, OneHotEncoder\n",
    "from sklearn.linear_model import LinearRegression\n",
    "from sklearn.metrics import mean_squared_error, r2_score"
   ]
  },
  {
   "cell_type": "code",
   "execution_count": 21,
   "id": "5c7f8193-1207-4fe6-a39d-5312700142f7",
   "metadata": {},
   "outputs": [
    {
     "name": "stdout",
     "output_type": "stream",
     "text": [
      "        sex     bmi  children smoker     region      charges\n",
      "age                                                         \n",
      "19   female  27.900         0    yes  southwest  16884.92400\n",
      "18     male  33.770         1     no  southeast   1725.55230\n",
      "28     male  33.000         3     no  southeast   4449.46200\n",
      "33     male  22.705         0     no  northwest  21984.47061\n",
      "32     male  28.880         0     no  northwest   3866.85520\n"
     ]
    }
   ],
   "source": [
    "insurance_data = pd.read_csv('./dataset/insurance.csv', index_col=0, skipinitialspace=True)\n",
    "print(insurance_data.head())"
   ]
  },
  {
   "cell_type": "code",
   "execution_count": 22,
   "id": "73c51fce-2b57-4323-b34d-d41ce3e7b936",
   "metadata": {},
   "outputs": [],
   "source": [
    "X = insurance_data.iloc[:,:].values"
   ]
  },
  {
   "cell_type": "code",
   "execution_count": 23,
   "id": "5fa94669-2ae4-46a4-a956-5edac57a9fb7",
   "metadata": {},
   "outputs": [],
   "source": [
    "labelencoder_X = LabelEncoder()"
   ]
  },
  {
   "cell_type": "code",
   "execution_count": 24,
   "id": "f92bb4ad-29f2-4bcf-8f84-cbb9d3d29f4a",
   "metadata": {},
   "outputs": [],
   "source": [
    "X[:,3] = labelencoder_X.fit_transform(X[:,3])"
   ]
  },
  {
   "cell_type": "code",
   "execution_count": 25,
   "id": "ab26c5a8-22ba-4986-862d-196b3277dd44",
   "metadata": {},
   "outputs": [
    {
     "name": "stdout",
     "output_type": "stream",
     "text": [
      "           0       1  2  3          4            5\n",
      "0     female    27.9  0  1  southwest    16884.924\n",
      "1       male   33.77  1  0  southeast    1725.5523\n",
      "2       male    33.0  3  0  southeast     4449.462\n",
      "3       male  22.705  0  0  northwest  21984.47061\n",
      "4       male   28.88  0  0  northwest    3866.8552\n",
      "...      ...     ... .. ..        ...          ...\n",
      "1333    male   30.97  3  0  northwest   10600.5483\n",
      "1334  female   31.92  0  0  northeast    2205.9808\n",
      "1335  female   36.85  0  0  southeast    1629.8335\n",
      "1336  female    25.8  0  0  southwest     2007.945\n",
      "1337  female   29.07  0  1  northwest   29141.3603\n",
      "\n",
      "[1338 rows x 6 columns]\n"
     ]
    }
   ],
   "source": [
    "Z = pd.DataFrame(X)\n",
    "\n",
    "print(Z)"
   ]
  },
  {
   "cell_type": "code",
   "execution_count": 28,
   "id": "829fe9d8-f872-4a22-851e-c773d0005f4d",
   "metadata": {},
   "outputs": [
    {
     "ename": "TypeError",
     "evalue": "__init__() got an unexpected keyword argument 'categorical_features'",
     "output_type": "error",
     "traceback": [
      "\u001b[0;31m---------------------------------------------------------------------------\u001b[0m",
      "\u001b[0;31mTypeError\u001b[0m                                 Traceback (most recent call last)",
      "Cell \u001b[0;32mIn [28], line 1\u001b[0m\n\u001b[0;32m----> 1\u001b[0m onehotencoder \u001b[38;5;241m=\u001b[39m \u001b[43mOneHotEncoder\u001b[49m\u001b[43m(\u001b[49m\u001b[43mcategorical_features\u001b[49m\u001b[38;5;241;43m=\u001b[39;49m\u001b[43m[\u001b[49m\u001b[38;5;241;43m3\u001b[39;49m\u001b[43m]\u001b[49m\u001b[43m)\u001b[49m\n",
      "\u001b[0;31mTypeError\u001b[0m: __init__() got an unexpected keyword argument 'categorical_features'"
     ]
    }
   ],
   "source": [
    "onehotencoder = OneHotEncoder(categorical_features=[3])"
   ]
  },
  {
   "cell_type": "code",
   "execution_count": null,
   "id": "a1662232-19f5-42c8-8757-bfaa65b2cb41",
   "metadata": {},
   "outputs": [],
   "source": []
  }
 ],
 "metadata": {
  "kernelspec": {
   "display_name": "Python 3.9 (tensorflow)",
   "language": "python",
   "name": "tensorflow"
  },
  "language_info": {
   "codemirror_mode": {
    "name": "ipython",
    "version": 3
   },
   "file_extension": ".py",
   "mimetype": "text/x-python",
   "name": "python",
   "nbconvert_exporter": "python",
   "pygments_lexer": "ipython3",
   "version": "3.9.13"
  }
 },
 "nbformat": 4,
 "nbformat_minor": 5
}
